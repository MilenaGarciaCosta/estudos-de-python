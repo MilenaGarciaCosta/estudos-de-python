{
 "cells": [
  {
   "cell_type": "code",
   "execution_count": 2,
   "metadata": {},
   "outputs": [
    {
     "name": "stdout",
     "output_type": "stream",
     "text": [
      "A letra 'a' está na palavra!\n"
     ]
    }
   ],
   "source": [
    "letra = str(input('Digite uma letra: '))\n",
    "palavra = str(input('Digite uma palavra: '))\n",
    "\n",
    "if letra not in palavra:\n",
    "    print(f\"A letra '{letra}' não está na palavra\")\n",
    "else:\n",
    "    print(f\"A letra '{letra}' está na palavra!\")"
   ]
  },
  {
   "cell_type": "code",
   "execution_count": 22,
   "metadata": {},
   "outputs": [
    {
     "name": "stdout",
     "output_type": "stream",
     "text": [
      "Seu carro foi encontrado na posição 0 da lista\n"
     ]
    }
   ],
   "source": [
    "lista_carros = ['Toyota', 'Honda', 'Ford', 'Nissan', 'Chevrolet', 'Hyundai', 'Volkswagen']\n",
    "\n",
    "marca_inserida = str(input('Qual a marca do seu carro?'))\n",
    "\n",
    "posicao = None\n",
    "for i,carro in enumerate(lista_carros):\n",
    "    if carro == marca_inserida:\n",
    "        posicao = i\n",
    "        break\n",
    "\n",
    "if posicao != None:\n",
    "    print(f'Seu carro foi encontrado na posição {posicao} da lista')\n",
    "else:\n",
    "    print('Seu carro não foi encontrado.')"
   ]
  },
  {
   "cell_type": "code",
   "execution_count": 26,
   "metadata": {},
   "outputs": [
    {
     "name": "stdout",
     "output_type": "stream",
     "text": [
      "Dia de festa!\n"
     ]
    }
   ],
   "source": [
    "dia_inserido = str(input('Qual o dia da semana de hoje?'))\n",
    "\n",
    "if dia_inserido == 'sexta-feira':\n",
    "    print('Dia de festa!')\n",
    "elif dia_inserido == 'sábado':\n",
    "    condicao_saude = str(input('Você está com dor de cabeça?'))\n",
    "    if condicao_saude == 'sim':\n",
    "        print('Você deve se recuperar')\n",
    "    else:\n",
    "        print('Podemos ir para o show do Foo Fighters!')\n",
    "else:\n",
    "    print('Você deve trabalhar, sinto muito')"
   ]
  },
  {
   "cell_type": "code",
   "execution_count": 33,
   "metadata": {},
   "outputs": [
    {
     "name": "stdout",
     "output_type": "stream",
     "text": [
      "A área do seu círculo é de 12.56\n"
     ]
    }
   ],
   "source": [
    "lista_formas = ['retângulo', 'quadrado', 'circulo']\n",
    "forma = str(input('Qual forma você quer calcular a área?'))\n",
    "\n",
    "if forma == 'retângulo':\n",
    "    base = float(input('insira o valor da base:'))\n",
    "    altura = float(input('insira o valor da altura:'))\n",
    "\n",
    "    area = base*altura\n",
    "    print(f'A área do seu retângulo é de {area}')\n",
    "elif forma == 'quadrado':\n",
    "    lado = float(input('Insira o valor do lado:'))\n",
    "\n",
    "    area = lado * lado\n",
    "    print(f'A área do seu quadrado é de {area}')\n",
    "elif forma == 'circulo':\n",
    "    raio = float(input('Insira o valor do raio:'))\n",
    "    \n",
    "    area = 3.14 * raio**2\n",
    "    print(f'A área do seu círculo é de {area}')\n",
    "else:\n",
    "    print('Desculpa, não sei fazer esse cálculo')"
   ]
  },
  {
   "cell_type": "code",
   "execution_count": 36,
   "metadata": {},
   "outputs": [
    {
     "name": "stdout",
     "output_type": "stream",
     "text": [
      "Você não tem idade para votar.\n"
     ]
    }
   ],
   "source": [
    "rg = str(input('Possui um documento de identificação válido?'))\n",
    "\n",
    "if rg == 'sim':\n",
    "    idade = int(input('Qual a sua idade?'))\n",
    "    if idade >= 18:\n",
    "        print('Você está apto para votar')\n",
    "    else:\n",
    "        print('Você não tem idade para votar.')\n",
    "else:\n",
    "    print('Você precisa se um documento de identificação válido para poder votar.')"
   ]
  }
 ],
 "metadata": {
  "kernelspec": {
   "display_name": "Python 3",
   "language": "python",
   "name": "python3"
  },
  "language_info": {
   "codemirror_mode": {
    "name": "ipython",
    "version": 3
   },
   "file_extension": ".py",
   "mimetype": "text/x-python",
   "name": "python",
   "nbconvert_exporter": "python",
   "pygments_lexer": "ipython3",
   "version": "3.11.9"
  }
 },
 "nbformat": 4,
 "nbformat_minor": 2
}
