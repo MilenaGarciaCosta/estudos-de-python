{
 "cells": [
  {
   "cell_type": "code",
   "execution_count": 1,
   "id": "222b3f56",
   "metadata": {},
   "outputs": [
    {
     "name": "stdout",
     "output_type": "stream",
     "text": [
      "Amigos em comum:  {'Diana'}\n"
     ]
    }
   ],
   "source": [
    "grafo_amizades = {\n",
    "    \"Alice\": [\"Bob\", \"Charlie\"],\n",
    "    \"Bob\": [\"Alice\", \"Diana\"],\n",
    "    \"Charlie\": [\"Alice\", \"Diana\"],\n",
    "    \"Diana\": [\"Bob\", \"Charlie\", \"Eve\"],\n",
    "    \"Eve\": [\"Diana\"]\n",
    "}\n",
    "\n",
    "amigos_bob = set(grafo_amizades[\"Bob\"])\n",
    "amigos_eve = set(grafo_amizades[\"Eve\"])\n",
    "\n",
    "amigos_comum = amigos_bob & amigos_eve\n",
    "\n",
    "print(\"Amigos em comum: \", amigos_comum)"
   ]
  },
  {
   "cell_type": "code",
   "execution_count": 2,
   "id": "193ac69e",
   "metadata": {},
   "outputs": [
    {
     "name": "stdout",
     "output_type": "stream",
     "text": [
      "Amigos diferentes:  {'Eve'}\n",
      "Amigos em comum:  {'Charlie', 'Bob'}\n",
      "Rede total de amigos:  {'Charlie', 'Bob', 'Eve'}\n"
     ]
    }
   ],
   "source": [
    "amigos_alice = set(grafo_amizades[\"Alice\"])\n",
    "amigos_diana  = set(grafo_amizades[\"Diana\"])\n",
    "\n",
    "#diff_amigos_alice = amigos_alice - amigos_diana\n",
    "diff_amigos_diana = amigos_diana - amigos_alice\n",
    "\n",
    "# print(diff_amigos_alice) Não funciona por ser uma \"conta\" negativa. Alice tem 2 amigos e Diana tem 3\n",
    "print(\"Amigos diferentes: \", diff_amigos_diana)\n",
    "\n",
    "amigos_comum_alice = amigos_alice & amigos_diana\n",
    "\n",
    "print(\"Amigos em comum: \", amigos_comum_alice)\n",
    "\n",
    "amigos_total_alice_diana = amigos_comum_alice | amigos_diana\n",
    "print(\"Rede total de amigos: \", amigos_total_alice_diana)"
   ]
  }
 ],
 "metadata": {
  "kernelspec": {
   "display_name": "Python 3",
   "language": "python",
   "name": "python3"
  },
  "language_info": {
   "codemirror_mode": {
    "name": "ipython",
    "version": 3
   },
   "file_extension": ".py",
   "mimetype": "text/x-python",
   "name": "python",
   "nbconvert_exporter": "python",
   "pygments_lexer": "ipython3",
   "version": "3.13.1"
  }
 },
 "nbformat": 4,
 "nbformat_minor": 5
}
