{
 "cells": [
  {
   "cell_type": "code",
   "execution_count": 3,
   "metadata": {},
   "outputs": [
    {
     "name": "stdout",
     "output_type": "stream",
     "text": [
      "A média do aluno é:  6.75\n"
     ]
    }
   ],
   "source": [
    "#estrutura def\n",
    "\n",
    "def calcula_media(notas):\n",
    "    return sum(notas)/len(notas)\n",
    "\n",
    "lista_notas = [5, 6, 9, 7]\n",
    "media = calcula_media(lista_notas)\n",
    "print(\"A média do aluno é: \", media)"
   ]
  },
  {
   "cell_type": "code",
   "execution_count": 6,
   "metadata": {},
   "outputs": [
    {
     "name": "stdout",
     "output_type": "stream",
     "text": [
      "O maior número da lista é:  1\n"
     ]
    }
   ],
   "source": [
    "def encontrar_maiorNumero (lista):\n",
    "    return max(lista) #Para achar o menor é só usar o min\n",
    "\n",
    "\n",
    "numeros = [1, 2, 5, 13, 11, 20]\n",
    "maiorNumero = encontrar_maiorNumero(numeros)\n",
    "print(\"O maior número da lista é: \", maiorNumero)"
   ]
  },
  {
   "cell_type": "code",
   "execution_count": 13,
   "metadata": {},
   "outputs": [
    {
     "name": "stdout",
     "output_type": "stream",
     "text": [
      "Os números negativos são:  [10, 20, 30]\n",
      "Os números positivos são:  [-10, -20, -45]\n"
     ]
    }
   ],
   "source": [
    "def separar_potivo_negativo(lista):\n",
    "    positivos = [num for num in lista if num > 0]\n",
    "    negativos = [num for num in lista if num < 0]\n",
    "\n",
    "    return positivos, negativos\n",
    "\n",
    "listaNumeros = [10, -10, 20, 30, -20, -45]\n",
    "positivos, negativos = separar_potivo_negativo(listaNumeros) # Pode alterar o nome dos returns, porém precisa estar na ordem correspondente a ordendo declarada\n",
    "print(\"Os números negativos são: \", negativos)\n",
    "print(\"Os números positivos são: \", positivos)"
   ]
  },
  {
   "cell_type": "code",
   "execution_count": 17,
   "metadata": {},
   "outputs": [
    {
     "name": "stdout",
     "output_type": "stream",
     "text": [
      "Os quadrados são:  [4, 9, 16, 25]\n"
     ]
    }
   ],
   "source": [
    "def soma_quadrados(lista):\n",
    "    return [num**2 for num in lista]\n",
    "\n",
    "lista = [2, 3, 4, 5]\n",
    "resultado = soma_quadrados(lista)\n",
    "print(\"Os quadrados são: \", resultado)"
   ]
  },
  {
   "cell_type": "code",
   "execution_count": 19,
   "metadata": {},
   "outputs": [
    {
     "name": "stdout",
     "output_type": "stream",
     "text": [
      "O elemento 3 foi encontrado 3 vezes\n"
     ]
    }
   ],
   "source": [
    "def contar_elemento(lista, elemento):\n",
    "    return lista.count(elemento)\n",
    "\n",
    "numeros = [2, 3, 5, 3, 2, 3, 33]\n",
    "elemento = 3\n",
    "resultado = contar_elemento(numeros, elemento)\n",
    "print(f'O elemento {elemento} foi encontrado {resultado} vezes')"
   ]
  },
  {
   "cell_type": "code",
   "execution_count": 33,
   "metadata": {},
   "outputs": [
    {
     "name": "stdout",
     "output_type": "stream",
     "text": [
      "A lista invertida é:  [6, 5, 4, 2, 2, 1, 0]\n"
     ]
    }
   ],
   "source": [
    "def inverter_lista(lista):\n",
    "    return lista[::-1] # O sinal varia se a lista vai correr de tras para frente, o númnero representa quais casas vao ser mostradas, de quantas em quantas\n",
    "\n",
    "numeros = [0, 1, 2, 2, 4, 5, 6]\n",
    "lista_invertida = inverter_lista(numeros)\n",
    "print(\"A lista invertida é: \", lista_invertida)"
   ]
  },
  {
   "cell_type": "code",
   "execution_count": 36,
   "metadata": {},
   "outputs": [
    {
     "name": "stdout",
     "output_type": "stream",
     "text": [
      "[-5, -2, 1, 2, 3, 4, 11, 41]\n"
     ]
    }
   ],
   "source": [
    "def verifica_listaCrescente(lista):\n",
    "    return sorted(lista) # se colocar uma igualdade vc pode ver se ela realmente está ou não ordenada\n",
    "\n",
    "lista = [2, 1, 11, 41, 4, 3, -5, -2]\n",
    "verificado = verifica_listaCrescente(lista)\n",
    "print(verificado)"
   ]
  },
  {
   "cell_type": "code",
   "execution_count": 39,
   "metadata": {},
   "outputs": [
    {
     "name": "stdout",
     "output_type": "stream",
     "text": [
      "[1, 2, 3, 4, 5, 6]\n"
     ]
    }
   ],
   "source": [
    "def remover_duplicados(lista):\n",
    "    return list(set(lista))\n",
    "\n",
    "lista = [1, 1, 4, 5, 6, 1, 5, 2, 3, 3]\n",
    "resultado = remover_duplicados(lista)\n",
    "print(resultado)"
   ]
  },
  {
   "cell_type": "code",
   "execution_count": 2,
   "metadata": {},
   "outputs": [
    {
     "name": "stdout",
     "output_type": "stream",
     "text": [
      "As temperaturas acima da média são: [32, 33, 34, 30]\n",
      "As temperaturas abaixo da média são: [24, 28, 21]\n",
      "As relações entre as temperaturas e a média são: [0.06874999999999998, 0.09696969696969694, 0.12352941176470586, 0.12352941176470586, 0.006666666666666643, -0.41904761904761906, -0.2416666666666667, -0.06428571428571431, 0.06874999999999998, 0.006666666666666643]\n"
     ]
    }
   ],
   "source": [
    "# a\n",
    "def verifica_acima_abaixo(temperaturas):\n",
    "    media = sum(temperaturas)/len(temperaturas)\n",
    "\n",
    "    acima = [temp for temp in temperaturas if temp > media]\n",
    "    abaixo = [temp for temp in temperaturas if temp < media]\n",
    "\n",
    "    return media, list(set(acima)), list(set(abaixo))\n",
    "\n",
    "dias = [16, 17, 18, 19, 20, 21, 22, 23, 24, 25]\n",
    "temperaturas = [32, 33, 34, 34, 30, 21, 24, 28, 32, 30]\n",
    "\n",
    "media, temp_acima, temp_abaixo = verifica_acima_abaixo(temperaturas)\n",
    "\n",
    "print(f\"As temperaturas acima da média são: {temp_acima}\")\n",
    "print(f\"As temperaturas abaixo da média são: {temp_abaixo}\")\n",
    "\n",
    "#b\n",
    "def relacao_temperatura(temperaturas):\n",
    "    lista_relacoes = []\n",
    "    for temp in temperaturas:\n",
    "        relacao = (temp - media) / temp\n",
    "        lista_relacoes.append(relacao)\n",
    "    return lista_relacoes\n",
    "\n",
    "relacoes = relacao_temperatura(temperaturas)\n",
    "print(f\"As relações entre as temperaturas e a média são: {relacoes}\")\n"
   ]
  }
 ],
 "metadata": {
  "kernelspec": {
   "display_name": "Python 3",
   "language": "python",
   "name": "python3"
  },
  "language_info": {
   "codemirror_mode": {
    "name": "ipython",
    "version": 3
   },
   "file_extension": ".py",
   "mimetype": "text/x-python",
   "name": "python",
   "nbconvert_exporter": "python",
   "pygments_lexer": "ipython3",
   "version": "3.12.3"
  }
 },
 "nbformat": 4,
 "nbformat_minor": 2
}
