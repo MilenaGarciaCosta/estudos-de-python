{
 "cells": [
  {
   "cell_type": "code",
   "execution_count": 4,
   "metadata": {},
   "outputs": [
    {
     "name": "stdout",
     "output_type": "stream",
     "text": [
      "(4, 5, 6)\n",
      "[4, 5, 6]\n"
     ]
    }
   ],
   "source": [
    "tupla = 4,5,6\n",
    "lista = [4, 5, 6]\n",
    "\n",
    "print(tupla)\n",
    "print(lista)"
   ]
  },
  {
   "cell_type": "code",
   "execution_count": 7,
   "metadata": {},
   "outputs": [],
   "source": [
    "# 1\n",
    "frutas = ('maçã', 'banana', 'laranja', 'uva')"
   ]
  },
  {
   "cell_type": "code",
   "execution_count": 6,
   "metadata": {},
   "outputs": [
    {
     "data": {
      "text/plain": [
       "'banana'"
      ]
     },
     "execution_count": 6,
     "metadata": {},
     "output_type": "execute_result"
    }
   ],
   "source": [
    "frutas[1]"
   ]
  },
  {
   "cell_type": "code",
   "execution_count": 11,
   "metadata": {},
   "outputs": [
    {
     "name": "stdout",
     "output_type": "stream",
     "text": [
      "('manga', 'maçã', 'banana', 'laranja', 'uva')\n"
     ]
    }
   ],
   "source": [
    "lista_frutas = list(frutas)\n",
    "lista_frutas.insert(0, 'manga')\n",
    "nova_tupla = tuple(lista_frutas)\n",
    "print(nova_tupla)"
   ]
  },
  {
   "cell_type": "code",
   "execution_count": null,
   "metadata": {},
   "outputs": [],
   "source": [
    "despesas_pessoas = [('Paulo', 100, 150, 88),\n",
    "                    ('Pedro', 150, 180, 233),\n",
    "                    ('José', 220, 130, 50)]\n",
    "\n",
    "    "
   ]
  }
 ],
 "metadata": {
  "kernelspec": {
   "display_name": "Python 3",
   "language": "python",
   "name": "python3"
  },
  "language_info": {
   "codemirror_mode": {
    "name": "ipython",
    "version": 3
   },
   "file_extension": ".py",
   "mimetype": "text/x-python",
   "name": "python",
   "nbconvert_exporter": "python",
   "pygments_lexer": "ipython3",
   "version": "3.12.3"
  }
 },
 "nbformat": 4,
 "nbformat_minor": 2
}
