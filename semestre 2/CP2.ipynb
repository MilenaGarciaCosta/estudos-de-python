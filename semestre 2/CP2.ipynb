{
 "cells": [
  {
   "cell_type": "code",
   "execution_count": 26,
   "metadata": {},
   "outputs": [
    {
     "name": "stdout",
     "output_type": "stream",
     "text": [
      "As temperaturas acima da média são: [32, 33, 34, 30]\n",
      "As temperaturas abaixo da média são: [24, 28, 21]\n",
      "As relações entre as temperaturas e a média são: [0.06874999999999998, 0.09696969696969694, 0.12352941176470586, 0.12352941176470586, 0.006666666666666643, -0.41904761904761906, -0.2416666666666667, -0.06428571428571431, 0.06874999999999998, 0.006666666666666643]\n"
     ]
    }
   ],
   "source": [
    "# a\n",
    "def verifica_acima_abaixo(temperaturas):\n",
    "    media = sum(temperaturas)/len(temperaturas)\n",
    "\n",
    "    acima = [temp for temp in temperaturas if temp > media]\n",
    "    abaixo = [temp for temp in temperaturas if temp < media]\n",
    "\n",
    "    return list(set(acima)), list(set(abaixo))\n",
    "\n",
    "dias = [16, 17, 18, 19, 20, 21, 22, 23, 24, 25]\n",
    "temperaturas = [32, 33, 34, 34, 30, 21, 24, 28, 32, 30]\n",
    "\n",
    "temp_acima, temp_abaixo = verifica_acima_abaixo(temperaturas)\n",
    "\n",
    "print(f\"As temperaturas acima da média são: {temp_acima}\")\n",
    "print(f\"As temperaturas abaixo da média são: {temp_abaixo}\")\n",
    "\n",
    "#b\n",
    "def relacao_temperatura(temperaturas):\n",
    "    lista_relacoes = []\n",
    "    for temp in temperaturas:\n",
    "        relacao = (temp - media) / temp\n",
    "        lista_relacoes.append(relacao)\n",
    "    return lista_relacoes\n",
    "\n",
    "relacoes = relacao_temperatura(temperaturas)\n",
    "print(f\"As relações entre as temperaturas e a média são: {relacoes}\")\n"
   ]
  },
  {
   "cell_type": "code",
   "execution_count": 48,
   "metadata": {},
   "outputs": [
    {
     "name": "stdout",
     "output_type": "stream",
     "text": [
      "['joao@gmail.com', 'carlos@gmail.com', 'paulo@gmail.com', 'roberto@gmail.com']\n",
      "['ana@hotmail.com', 'claudia@hotmail.com']\n",
      "['maria@yahoo.com', 'pedro@yahoo.com']\n"
     ]
    }
   ],
   "source": [
    "#2\n",
    "lista_emails = [\n",
    "   \"joao@gmail.com\",\n",
    "   \"maria@yahoo.com\",\n",
    "   \"carlos@gmail.com\",\n",
    "   \"ana@hotmail.com\",\n",
    "   \"paulo@gmail.com\",\n",
    "   \"pedro@yahoo.com\",\n",
    "   \"claudia@hotmail.com\",\n",
    "   \"roberto@gmail.com\"\n",
    "]\n",
    "\n",
    "gmail_filtrado = list(filter(lambda x: x.endswith('@gmail.com'), lista_emails))\n",
    "print(gmail_filtrado)\n",
    "\n",
    "hotmail_filtrado = list(filter(lambda x: x.endswith('@hotmail.com'), lista_emails))\n",
    "print(hotmail_filtrado)\n",
    "\n",
    "yahoo_filtrado = list(filter(lambda x: x.endswith('@yahoo.com'), lista_emails))\n",
    "print(yahoo_filtrado)\n"
   ]
  },
  {
   "cell_type": "code",
   "execution_count": 41,
   "metadata": {},
   "outputs": [
    {
     "name": "stdout",
     "output_type": "stream",
     "text": [
      "As cidades com chuva são: ['SP', 'RJ', 'RN', 'TO', 'CE', 'MA', 'PI', 'SC']\n",
      "Total de chuva: 259\n",
      "Média de chuva: 32.375\n"
     ]
    }
   ],
   "source": [
    "def main():\n",
    "   \n",
    "    cidades = ['SP', 'RJ', 'RN', 'SE', 'TO', 'CE', 'DF', 'MA', 'PI', 'SC']\n",
    "    chuvas = [10, 45, 10, 0, 5, 32, 0, 105, 18, 34]\n",
    "   \n",
    "    # Func aninhada para encontrar as cidades que tiveram chuva\n",
    "    def cidades_com_chuva():\n",
    "        # mescla cidades e chuvas em pares e seleciona as que tem chuva maior que 0\n",
    "        return [cidade for cidade, chuva in zip(cidades, chuvas) if chuva > 0]\n",
    "   \n",
    "    # Função que calcula o total e a média de chuva\n",
    "    def dados_chuva():\n",
    "        chuvas_filtradas = [chuva for chuva in chuvas if chuva > 0]\n",
    "        total_chuva = sum(chuvas_filtradas)\n",
    "        media_chuva = total_chuva / len(chuvas_filtradas) if chuvas_filtradas else 0\n",
    "        return total_chuva, media_chuva\n",
    "   \n",
    "    # obtem cidades com chuva\n",
    "    cidades_chuvosas = cidades_com_chuva()\n",
    "   \n",
    "    total_chuva, media_chuva = dados_chuva()\n",
    "   \n",
    "    # Retorna as informações\n",
    "    return cidades_chuvosas, total_chuva, media_chuva\n",
    " \n",
    "# Executa a main func e exibe resultados\n",
    "cidades_chuvosas, total_chuva, media_chuva = main()\n",
    "print(\"Cidades com chuva:\", cidades_chuvosas)\n",
    "print(\"Total de chuva:\", total_chuva)\n",
    "print(\"Média de chuva:\", media_chuva)"
   ]
  },
  {
   "cell_type": "code",
   "execution_count": null,
   "metadata": {},
   "outputs": [],
   "source": [
    "bairros = [\n",
    "    'Centro',\n",
    "    'Moema',\n",
    "    'Pinheiros',\n",
    "    'Vila Mariana',\n",
    "    'Itaim Bibi'\n",
    "]\n",
    "congestionamento_km = [\n",
    "    10,\n",
    "    8,\n",
    "    15,\n",
    "    12,\n",
    "    20\n",
    "]\n",
    "velocidade_media = [\n",
    "    15,\n",
    "    20,\n",
    "    12,\n",
    "    18,\n",
    "    10\n",
    "]\n",
    " \n",
    "def bairros_maior_congestionamento(bairros, congestionamento_km, total_bairros=3):\n",
    "    bairros_congestionados = []\n",
    "    for i in range(len(congestionamento_km)):\n",
    "        bairros_congestionados.append((bairros[i], congestionamento_km[i]))\n",
    " \n",
    "    for i in range(len(bairros_congestionados)):\n",
    "        for j in range(len(bairros_congestionados) - 1):\n",
    "            if bairros_congestionados[j][1] < bairros_congestionados[j + 1][1]:\n",
    "                bairros_congestionados[j], bairros_congestionados[j + 1] = bairros_congestionados[j + 1], bairros_congestionados[j]\n",
    " \n",
    "    return [bairro[0] for bairro in bairros_congestionados[:total_bairros]]\n",
    "\n",
    "def filtrar_velocidades(bairros, congestionamento_km, velocidade_media):\n",
    "    velocidades_filtradas = []\n",
    "    bairros_filtrados = []\n",
    "    for i in range(len(bairros)):\n",
    "        if congestionamento_km[i] > 10:\n",
    "            velocidades_filtradas.append(velocidade_media[i])\n",
    "            bairros_filtrados.append(bairros[i])\n",
    "    return velocidades_filtradas, bairros_filtrados\n",
    "\n",
    "def velocidade_media_superior_congestionamento(bairros, congestionamento_km, velocidade_media):\n",
    "    velocidades_filtradas, bairros_filtrados = filtrar_velocidades(bairros, congestionamento_km, velocidade_media)\n",
    "   \n",
    "    if len(velocidades_filtradas) > 0:\n",
    "        media = sum(velocidades_filtradas) / len(velocidades_filtradas)\n",
    "        return media, bairros_filtrados, velocidades_filtradas\n",
    "    else:\n",
    "        return 0, [], []\n",
    "\n",
    "def bairro_maior_diferenca(bairros, congestionamento_km, velocidade_media):\n",
    "    maior_diferenca = congestionamento_km[0] - velocidade_media[0]\n",
    "    bairro_com_maior_diferenca = bairros[0]\n",
    "   \n",
    "    for indice in range(1, len(bairros)):\n",
    "        diferenca = congestionamento_km[indice] - velocidade_media[indice]\n",
    "        if diferenca > maior_diferenca:\n",
    "            maior_diferenca = diferenca\n",
    "            bairro_com_maior_diferenca = bairros[indice]\n",
    "   \n",
    "    return bairro_com_maior_diferenca, maior_diferenca\n",
    "\n",
    "maior_congestionamento = bairros_maior_congestionamento(bairros, congestionamento_km)\n",
    "bairro_maior_diferenca_info = bairro_maior_diferenca(bairros, congestionamento_km, velocidade_media)\n",
    "velocidade_media_info = velocidade_media_superior_congestionamento(bairros, congestionamento_km, velocidade_media)\n",
    " \n",
    "print(\"Bairros com maior congestionamento:\", maior_congestionamento)\n",
    "print(\"Bairro com maior diferença:\", bairro_maior_diferenca_info)\n",
    "print(\"Velocidade média superior ao congestionamento:\")\n",
    "for i in range(len(velocidade_media_info[1])):\n",
    "    print(f\"{velocidade_media_info[1][i]}: {velocidade_media_info[2][i]} km/h (Média: {velocidade_media_info[0]} km/h)\")"
   ]
  },
  {
   "cell_type": "code",
   "execution_count": 50,
   "metadata": {},
   "outputs": [
    {
     "name": "stdout",
     "output_type": "stream",
     "text": [
      "Cidades com chuva: ['SP', 'RJ', 'RN', 'TO', 'CE', 'MA', 'PI', 'SC']\n",
      "Total de chuva: 259\n",
      "Média de chuva: 32.375\n"
     ]
    }
   ],
   "source": [
    "def funcao_principal():\n",
    "    cidades = ['SP', 'RJ', 'RN', 'SE', 'TO', 'CE', 'DF', 'MA', 'PI', 'SC']\n",
    "    chuvas = [10, 45, 10, 0, 5, 32, 0, 105, 18, 34]\n",
    "   \n",
    "    def cidades_chovendo():\n",
    "        cidades_chuvosas = [cidades[i] for i in range(len(chuvas)) if chuvas[i] > 0]\n",
    "        return cidades_chuvosas\n",
    "\n",
    "    def dados_chuva():\n",
    "        filtro_chuvas = [chuva for chuva in chuvas if chuva > 0]\n",
    "        total_chuva = sum(filtro_chuvas)\n",
    "        media_chuva = total_chuva / len(filtro_chuvas) if filtro_chuvas else 0\n",
    "        return total_chuva, media_chuva\n",
    "\n",
    "    cidades_chuvosas = cidades_chovendo()\n",
    "    total_chuva, media_chuva = dados_chuva()\n",
    "   \n",
    "    return cidades_chuvosas, total_chuva, media_chuva\n",
    "\n",
    "cidades_chuvosas, total_chuva, media_chuva = funcao_principal()\n",
    "print(\"Cidades com chuva:\", cidades_chuvosas)\n",
    "print(\"Total de chuva:\", total_chuva)\n",
    "print(\"Média de chuva:\", media_chuva)"
   ]
  }
 ],
 "metadata": {
  "kernelspec": {
   "display_name": "Python 3",
   "language": "python",
   "name": "python3"
  },
  "language_info": {
   "codemirror_mode": {
    "name": "ipython",
    "version": 3
   },
   "file_extension": ".py",
   "mimetype": "text/x-python",
   "name": "python",
   "nbconvert_exporter": "python",
   "pygments_lexer": "ipython3",
   "version": "3.12.3"
  }
 },
 "nbformat": 4,
 "nbformat_minor": 2
}
