{
 "cells": [
  {
   "cell_type": "code",
   "execution_count": 8,
   "metadata": {},
   "outputs": [
    {
     "name": "stdout",
     "output_type": "stream",
     "text": [
      "3615.1270000000004\n"
     ]
    }
   ],
   "source": [
    "# Crie um programa que solicita o salário de um funcionário e, posteriormente, calcula a porcentagem de desconto, mostrando  quanto foi descontado e quanto o funcionário irá receber.\n",
    "\n",
    "salario = float(input(\"Digite o salário do funcionário:\"))\n",
    "\n",
    "if salario <= 2259.20:\n",
    "    desconto = 0\n",
    "\n",
    "if salario >= 2259.21 and salario <= 2828.65:\n",
    "    desconto = salario * 0.075\n",
    "\n",
    "if salario >= 2828.66 and salario <= 3751.05:\n",
    "    desconto = salario * 0.15\n",
    "\n",
    "if salario >= 3751.06 and salario <= 4664.68:\n",
    "    desconto = salario * 0.225\n",
    "\n",
    "if salario > 4664.68:\n",
    "    desconto = salario * 0.275\n",
    "\n",
    "def descontar (salario, desconto):\n",
    "    salarioDescontado = salario - desconto\n",
    "    return salarioDescontado\n",
    "print(descontar(salario, desconto))"
   ]
  }
 ],
 "metadata": {
  "kernelspec": {
   "display_name": "Python 3",
   "language": "python",
   "name": "python3"
  },
  "language_info": {
   "codemirror_mode": {
    "name": "ipython",
    "version": 3
   },
   "file_extension": ".py",
   "mimetype": "text/x-python",
   "name": "python",
   "nbconvert_exporter": "python",
   "pygments_lexer": "ipython3",
   "version": "3.12.3"
  }
 },
 "nbformat": 4,
 "nbformat_minor": 2
}
