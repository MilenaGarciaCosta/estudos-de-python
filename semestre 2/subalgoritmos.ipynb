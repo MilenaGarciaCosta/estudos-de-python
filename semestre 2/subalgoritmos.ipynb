{
 "cells": [
  {
   "cell_type": "code",
   "execution_count": 4,
   "metadata": {},
   "outputs": [
    {
     "name": "stdout",
     "output_type": "stream",
     "text": [
      "8\n"
     ]
    }
   ],
   "source": [
    "# Subalgoritmos\n",
    "\n",
    "def calculadora(operacao):\n",
    "    def soma(a, b):\n",
    "        return a+b\n",
    "    def subtracao(a, b):\n",
    "        return a-b\n",
    "    \n",
    "    if operacao == 'soma':\n",
    "        return soma\n",
    "    elif operacao =='subtação':\n",
    "        return subtracao\n",
    "    else:\n",
    "        return print('Operação não suportada pela calculadora.')\n",
    "    \n",
    "resultado = calculadora('soma')\n",
    "print(resultado(5,3))"
   ]
  },
  {
   "cell_type": "code",
   "execution_count": 5,
   "metadata": {},
   "outputs": [
    {
     "name": "stdout",
     "output_type": "stream",
     "text": [
      "65\n"
     ]
    }
   ],
   "source": [
    "def quadrado(x):\n",
    "    q = x**2\n",
    "    return q\n",
    "\n",
    "def soma_quadrados(a, b, c):\n",
    "    e = quadrado(a)\n",
    "    f = quadrado(b)\n",
    "    g = quadrado(c)\n",
    "    return e + f + g\n",
    "\n",
    "a = 5\n",
    "b = 6\n",
    "c = 2\n",
    "resultado = soma_quadrados(a, b, c)\n",
    "print(resultado)\n"
   ]
  },
  {
   "cell_type": "code",
   "execution_count": 6,
   "metadata": {},
   "outputs": [
    {
     "name": "stdout",
     "output_type": "stream",
     "text": [
      "A área do retangulo é 4.0\n"
     ]
    }
   ],
   "source": [
    "def area(largura, altura):\n",
    "    a = largura * altura\n",
    "    return a\n",
    "\n",
    "def mostrar_resultado():\n",
    "    print(f'A área do retangulo é {ar}')\n",
    "\n",
    "largura = float(input('Digite a largura'))\n",
    "altura = float(input('Digite a altura'))\n",
    "ar = area(largura, altura)\n",
    "\n",
    "mostrar_resultado()"
   ]
  },
  {
   "cell_type": "code",
   "execution_count": 9,
   "metadata": {},
   "outputs": [
    {
     "name": "stdout",
     "output_type": "stream",
     "text": [
      "Produtos: [5, 12, 21, 32]\n"
     ]
    }
   ],
   "source": [
    "def multiplicar(a, b):\n",
    "    return a * b\n",
    "def multiplicar_listas(lista1, lista2):\n",
    "    produtos = []\n",
    "    for i in range(len(lista1)):\n",
    "        produtos.append(multiplicar(lista1[i], lista2[i]))\n",
    "    return produtos\n",
    "\n",
    "lista_a = [1, 2, 3, 4]\n",
    "lista_b = [5, 6, 7, 8]\n",
    "resultado = multiplicar_listas(lista_a, lista_b)\n",
    "print(\"Produtos:\", resultado)"
   ]
  }
 ],
 "metadata": {
  "kernelspec": {
   "display_name": "Python 3",
   "language": "python",
   "name": "python3"
  },
  "language_info": {
   "codemirror_mode": {
    "name": "ipython",
    "version": 3
   },
   "file_extension": ".py",
   "mimetype": "text/x-python",
   "name": "python",
   "nbconvert_exporter": "python",
   "pygments_lexer": "ipython3",
   "version": "3.12.1"
  }
 },
 "nbformat": 4,
 "nbformat_minor": 2
}
