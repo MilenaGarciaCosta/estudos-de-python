{
 "cells": [
  {
   "cell_type": "code",
   "execution_count": 1,
   "metadata": {},
   "outputs": [
    {
     "name": "stdout",
     "output_type": "stream",
     "text": [
      "10\n"
     ]
    }
   ],
   "source": [
    "def soma (num1,num2):\n",
    "    soma = num1 + num2\n",
    "    return soma\n",
    "print(soma(4,6))"
   ]
  },
  {
   "cell_type": "code",
   "execution_count": 2,
   "metadata": {},
   "outputs": [
    {
     "name": "stdout",
     "output_type": "stream",
     "text": [
      "10\n"
     ]
    }
   ],
   "source": [
    "def soma (num1,num2):\n",
    "    return num1 + num2\n",
    "print(soma(4,6))"
   ]
  },
  {
   "cell_type": "code",
   "execution_count": 4,
   "metadata": {},
   "outputs": [
    {
     "data": {
      "text/plain": [
       "4.0"
      ]
     },
     "execution_count": 4,
     "metadata": {},
     "output_type": "execute_result"
    }
   ],
   "source": [
    "def area_quadrado(lado):\n",
    "    return lado**2\n",
    "\n",
    "lado_val = float(input('Qual o valor do lado do quadrado?'))\n",
    "area_quadrado(lado_val)"
   ]
  },
  {
   "cell_type": "code",
   "execution_count": 7,
   "metadata": {},
   "outputs": [
    {
     "name": "stdout",
     "output_type": "stream",
     "text": [
      "milena linda\n",
      "milena linda\n"
     ]
    }
   ],
   "source": [
    "def exibir_mnsg (mensagem, vezes =2):\n",
    "    for i in range(vezes):\n",
    "        print(mensagem)\n",
    "        \n",
    "mensagem_txt = str(input('Insira uma frase:'))\n",
    "exibir_mnsg(mensagem_txt)"
   ]
  },
  {
   "cell_type": "code",
   "execution_count": 11,
   "metadata": {},
   "outputs": [
    {
     "name": "stdout",
     "output_type": "stream",
     "text": [
      "O número é ímpar\n"
     ]
    }
   ],
   "source": [
    "def par(x):\n",
    "    return x %2 == 0\n",
    "\n",
    "def par_impar(x):\n",
    "    if par(x):\n",
    "        print('O número é par')\n",
    "    else:\n",
    "        print('O número é ímpar')\n",
    "        \n",
    "numero = float(input('Verifique um número:'))\n",
    "par_impar(numero)"
   ]
  },
  {
   "cell_type": "code",
   "execution_count": 17,
   "metadata": {},
   "outputs": [
    {
     "data": {
      "text/plain": [
       "21.25"
      ]
     },
     "execution_count": 17,
     "metadata": {},
     "output_type": "execute_result"
    }
   ],
   "source": [
    "L = [10, 20, 30, 25]\n",
    "\n",
    "def somaLista(L):\n",
    "    total = 0\n",
    "    for i in L:\n",
    "        total += i\n",
    "    return total\n",
    "def media(L):\n",
    "    return somaLista(L)/len(L)\n",
    "\n",
    "somaLista(L)\n",
    "media(L)"
   ]
  },
  {
   "cell_type": "code",
   "execution_count": null,
   "metadata": {},
   "outputs": [],
   "source": []
  }
 ],
 "metadata": {
  "kernelspec": {
   "display_name": "Python 3",
   "language": "python",
   "name": "python3"
  },
  "language_info": {
   "codemirror_mode": {
    "name": "ipython",
    "version": 3
   },
   "file_extension": ".py",
   "mimetype": "text/x-python",
   "name": "python",
   "nbconvert_exporter": "python",
   "pygments_lexer": "ipython3",
   "version": "3.11.9"
  }
 },
 "nbformat": 4,
 "nbformat_minor": 2
}
