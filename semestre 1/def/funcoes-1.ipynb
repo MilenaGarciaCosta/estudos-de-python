{
 "cells": [
  {
   "cell_type": "code",
   "execution_count": 1,
   "metadata": {},
   "outputs": [
    {
     "name": "stdout",
     "output_type": "stream",
     "text": [
      "14\n"
     ]
    }
   ],
   "source": [
    "# def nome (argumento)\n",
    "\n",
    "# nome (argumento)\n",
    "# return valor\n",
    "\n",
    "def multiplicacao (param1, param2):\n",
    "    total = param1 * param2\n",
    "    return total\n",
    "\n",
    "print(multiplicacao(2,7))"
   ]
  },
  {
   "cell_type": "code",
   "execution_count": 3,
   "metadata": {},
   "outputs": [
    {
     "name": "stdout",
     "output_type": "stream",
     "text": [
      "Soma: 8.0\n",
      "Subtração: 2.0\n",
      "Multiplicação: 15.0\n",
      "Divisão: 1.6666666666666667\n"
     ]
    }
   ],
   "source": [
    "num1 = float(input('Digite o primeiro número: '))\n",
    "num2 = float(input('Digite o segundo número: '))\n",
    "\n",
    "def soma (num1, num2):\n",
    "    total = num1 + num2\n",
    "    return total\n",
    "print('Soma:', soma(num1, num2))\n",
    "\n",
    "def subtracao (num1, num2):\n",
    "    total = num1 - num2\n",
    "    return total\n",
    "print('Subtração:', subtracao(num1, num2))\n",
    "\n",
    "def multi (num1, num2):\n",
    "    total = num1 * num2\n",
    "    return total\n",
    "print('Multiplicação:', multi(num1, num2))\n",
    "\n",
    "def divisao (num1, num2):\n",
    "    total = num1 / num2\n",
    "    return total\n",
    "print('Divisão:', divisao(num1, num2))"
   ]
  },
  {
   "cell_type": "code",
   "execution_count": 14,
   "metadata": {},
   "outputs": [
    {
     "name": "stdout",
     "output_type": "stream",
     "text": [
      "Áreas: 9.0\n"
     ]
    }
   ],
   "source": [
    "lado1 = float(input('Qual o valor do priemiro lado?'))\n",
    "lado2 = float(input('Qual o valor do segundo?'))\n",
    "\n",
    "def area (lado1, lado2):\n",
    "    area_q = lado1**2\n",
    "    area_r =lado1 * lado2\n",
    "    return area_q, area_r\n",
    "print('Áreas:', area(lado1, lado2))"
   ]
  },
  {
   "cell_type": "code",
   "execution_count": null,
   "metadata": {},
   "outputs": [],
   "source": [
    "def converter_temp():\n",
    "    temperaturas = []\n",
    "    for t in range(3):\n",
    "        temp = float(input('Insira uma temepratura: '.format(t+1)))\n",
    "        temperaturas.append(temp)\n",
    "    print(temperaturas)"
   ]
  },
  {
   "cell_type": "code",
   "execution_count": null,
   "metadata": {},
   "outputs": [],
   "source": [
    "def media_movel(lista, janela):\n",
    "    medias = []\n",
    "    for i in range(len(lista) - janela + 1):\n",
    "        sublista = lista[i:i + janela]\n",
    "        media = sum(sublista) / janela\n",
    "        medias.append(media)\n",
    "    return medias\n",
    "\n",
    "valores = [10, 15, 20, 25, 30, 35, 40, 45, 50, 55]\n",
    "janela = 3\n",
    "medias = media_movel(valores, janela)\n",
    "print(f\"Médias móveis com janela {janela}: {medias}\")"
   ]
  },
  {
   "cell_type": "code",
   "execution_count": null,
   "metadata": {},
   "outputs": [],
   "source": [
    "def calcular_forca(massa, aceleracao):\n",
    "    forca = massa * aceleracao\n",
    "    return forca\n",
    "massa = float(input(\"Insira a massa (em kg): \"))\n",
    "aceleracao = float(input(\"Insira a aceleração (em m/s^2): \"))\n",
    "forca_resultante = calcular_forca(massa, aceleracao)\n",
    "print(\"A força resultante é de\", forca_resultante, \"Newton (N)\")"
   ]
  },
  {
   "cell_type": "code",
   "execution_count": null,
   "metadata": {},
   "outputs": [],
   "source": [
    "def volume_do_cubo(comprimento, largura, altura):\n",
    "    volume = comprimento * largura * altura\n",
    "    return volume\n",
    "comprimento = float(input(\"Insira o comprimento do cubo: \"))\n",
    "largura = float(input(\"Insira a largura do cubo: \"))\n",
    "altura = float(input(\"Insira a altura do cubo: \"))\n",
    "volume = volume_do_cubo(comprimento, largura, altura)\n",
    "print(\"O volume do cubo com comprimento\", comprimento,\n",
    "\"largura\", largura, \"e altura\", altura, \"é\", volume)"
   ]
  },
  {
   "cell_type": "code",
   "execution_count": null,
   "metadata": {},
   "outputs": [],
   "source": [
    "def area_da_sala():\n",
    "    comprimento = float(input(\"Insira o comprimento da sala (em metros): \"))\n",
    "    largura = float(input(\"Insira a largura da sala (em metros): \"))\n",
    "    area = comprimento * largura\n",
    "    return area\n",
    "area_da_sala = area_da_sala()\n",
    "print(\"A área da sala é\", area_da_sala, \"metros quadrados\")"
   ]
  }
 ],
 "metadata": {
  "kernelspec": {
   "display_name": "Python 3",
   "language": "python",
   "name": "python3"
  },
  "language_info": {
   "codemirror_mode": {
    "name": "ipython",
    "version": 3
   },
   "file_extension": ".py",
   "mimetype": "text/x-python",
   "name": "python",
   "nbconvert_exporter": "python",
   "pygments_lexer": "ipython3",
   "version": "3.11.4"
  },
  "orig_nbformat": 4
 },
 "nbformat": 4,
 "nbformat_minor": 2
}
