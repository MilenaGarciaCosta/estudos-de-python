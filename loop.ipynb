{
 "cells": [
  {
   "cell_type": "code",
   "execution_count": 1,
   "metadata": {},
   "outputs": [
    {
     "name": "stdout",
     "output_type": "stream",
     "text": [
      "A soma dos números de 1 a 5 é de:  0\n",
      "A soma dos números de 1 a 5 é de:  1\n",
      "A soma dos números de 1 a 5 é de:  3\n",
      "A soma dos números de 1 a 5 é de:  6\n",
      "A soma dos números de 1 a 5 é de:  10\n",
      "A soma dos números de 1 a 5 é de:  15\n"
     ]
    }
   ],
   "source": [
    "soma = 0\n",
    "num = 0\n",
    "\n",
    "while num <= 5:\n",
    "    soma += num\n",
    "    num +=1\n",
    "    print(\"A soma dos números de 1 a 5 é de: \", soma)"
   ]
  },
  {
   "cell_type": "code",
   "execution_count": 2,
   "metadata": {},
   "outputs": [],
   "source": [
    "input_usuario = ''\n",
    "while input_usuario != 'sair':\n",
    "    input_usuario = input(\"Digite 'sair' para parar o programa!\")"
   ]
  },
  {
   "cell_type": "code",
   "execution_count": 9,
   "metadata": {},
   "outputs": [
    {
     "name": "stdout",
     "output_type": "stream",
     "text": [
      "10.0 x 1 = 10.0\n",
      "10.0 x 2 = 20.0\n",
      "10.0 x 3 = 30.0\n",
      "10.0 x 4 = 40.0\n",
      "10.0 x 5 = 50.0\n",
      "10.0 x 6 = 60.0\n",
      "10.0 x 7 = 70.0\n",
      "10.0 x 8 = 80.0\n",
      "10.0 x 9 = 90.0\n",
      "10.0 x 10 = 100.0\n"
     ]
    }
   ],
   "source": [
    "# Solicita ao usuário um número para a tabuada\n",
    "num = float(input(\"Digite um número para a tabuada: \"))\n",
    "\n",
    "# Inicializa o contador - indicador do número que irá dividir o valor do input\n",
    "i = 1\n",
    "\n",
    "# Executa o loop enquanto i for menor ou igual a 10\n",
    "while i <= 10:\n",
    "    # Calcula o resultado da multiplicação\n",
    "    resultado = num * i\n",
    "    # Imprime a tabuada formatada\n",
    "    print(f\"{num} x {i} = {resultado}\")\n",
    "    # Incrementa 1 ao contador\n",
    "    i += 1\n"
   ]
  },
  {
   "cell_type": "code",
   "execution_count": 11,
   "metadata": {},
   "outputs": [
    {
     "name": "stdout",
     "output_type": "stream",
     "text": [
      "2.0\n",
      "12.0\n",
      "20.0\n",
      "120.0\n"
     ]
    }
   ],
   "source": [
    "n = 0\n",
    "\n",
    "while n<=100:\n",
    "    #Solicitar input até  n ser maior que 100\n",
    "    num = float(input(\"Digite um número: \"))\n",
    "    #somar o numero inserido com a soma anterior\n",
    "    resultado = num + n\n",
    "    print(resultado)\n",
    "    #salvar o numero da soma total atual na variavel n\n",
    "    n+= num"
   ]
  },
  {
   "cell_type": "code",
   "execution_count": 22,
   "metadata": {},
   "outputs": [
    {
     "name": "stdout",
     "output_type": "stream",
     "text": [
      "Bem-vindo(a)!  Milena\n"
     ]
    }
   ],
   "source": [
    "usuario = str(input(\"Digite seu usuário\"))\n",
    "senha = str(input(\"Digite sua senha: \"))\n",
    "senha = ''\n",
    "i=1\n",
    "\n",
    "while senha != 'abc123':\n",
    "    senha = str(input(\"Senha incorreta, tente novamente: \"))\n",
    "    i+=1\n",
    "    if i>3:\n",
    "        print('Conta bloqueada, mané.')\n",
    "    else:\n",
    "        print('Bem-vindo(a)! ', usuario)\n"
   ]
  },
  {
   "cell_type": "code",
   "execution_count": null,
   "metadata": {},
   "outputs": [],
   "source": [
    "tentativas = 0\n",
    "usuario_padrao = 'Lena'\n",
    "senha_padrao = 'senha123'\n",
    "bloqueado = False\n",
    "\n",
    "while tentativas <=3 and not bloqueado:\n",
    "    usuario = str(input('Digite seu usuário: '))\n",
    "    senha = str(input(' Digite sua senha: '))\n",
    "\n",
    "    if usuario == usuario_padrao and senha == senha_padrao:\n",
    "        print('Login bem sucedido')\n",
    "    else:\n",
    "        print('Usuário ou senha incorretos')\n",
    "    if tentativas <=3:\n",
    "        bloqueado = True"
   ]
  }
 ],
 "metadata": {
  "kernelspec": {
   "display_name": "Python 3",
   "language": "python",
   "name": "python3"
  },
  "language_info": {
   "codemirror_mode": {
    "name": "ipython",
    "version": 3
   },
   "file_extension": ".py",
   "mimetype": "text/x-python",
   "name": "python",
   "nbconvert_exporter": "python",
   "pygments_lexer": "ipython3",
   "version": "3.11.4"
  },
  "orig_nbformat": 4
 },
 "nbformat": 4,
 "nbformat_minor": 2
}
