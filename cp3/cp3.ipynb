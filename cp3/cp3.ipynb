{
 "cells": [
  {
   "cell_type": "code",
   "execution_count": 2,
   "metadata": {},
   "outputs": [
    {
     "name": "stdout",
     "output_type": "stream",
     "text": [
      "Transferência bem sucedida.\n",
      "Saldo da conta debitada: 7.0 \n",
      " Saldo da conta creditada: 10.0\n"
     ]
    }
   ],
   "source": [
    "# exercicio 1\n",
    "\n",
    "def debitar (valorTransferencia, saldo1, saldo2):\n",
    "    if saldo1 > valorTransferencia:\n",
    "        saldo1 -= valorTransferencia\n",
    "        saldo2 += valorTransferencia\n",
    "        print('Transferência bem sucedida.')\n",
    "        print(f'Saldo da conta debitada: {saldo1} \\n Saldo da conta creditada: {saldo2}')\n",
    "    else:\n",
    "        print('Saldo insuficiente.')\n",
    "\n",
    "saldo_usuario1 = 12\n",
    "saldo_usuario2 = 5\n",
    "valorTransferencia = float(input('Qual o valor que você deseja transferir?'))\n",
    "debitar(valorTransferencia, saldo_usuario1, saldo_usuario2)"
   ]
  },
  {
   "cell_type": "code",
   "execution_count": 15,
   "metadata": {},
   "outputs": [
    {
     "name": "stdout",
     "output_type": "stream",
     "text": [
      "2 jogos disponíveis\n",
      "0 jogos disponíveis\n"
     ]
    }
   ],
   "source": [
    "# exercicio 2\n",
    "\n",
    "def comprar(estoque):\n",
    "    while estoque > 0:\n",
    "        quantidade = int(input('Quantos jogos você quer comprar?'))\n",
    "        if quantidade > estoque:\n",
    "            print(f'Apenas {estoque} jogos disponíveis.')\n",
    "            break\n",
    "        else:\n",
    "            estoque -= quantidade\n",
    "            print(f'{estoque} jogos disponíveis')\n",
    "\n",
    "estoque = 5\n",
    "comprar(estoque)"
   ]
  },
  {
   "cell_type": "code",
   "execution_count": 16,
   "metadata": {},
   "outputs": [
    {
     "name": "stdout",
     "output_type": "stream",
     "text": [
      "O valor com desconto é R$5.0\n"
     ]
    }
   ],
   "source": [
    "# exercicio 3\n",
    "\n",
    "def desconto (codigoDesconto, compraValor):\n",
    "    desconto = 1 - (codigoDesconto/100)\n",
    "    total = compraValor * desconto\n",
    "    print(f'O valor com desconto é R${total}')\n",
    "\n",
    "compraValor = float(input('Qual o valor da sua compra?'))\n",
    "codigoDesconto = float(input('Qual o código de desconto?'))\n",
    "desconto(codigoDesconto, compraValor)"
   ]
  },
  {
   "cell_type": "code",
   "execution_count": 17,
   "metadata": {},
   "outputs": [
    {
     "name": "stdout",
     "output_type": "stream",
     "text": [
      "O valor com desconto é R$10.0\n"
     ]
    }
   ],
   "source": [
    "def desconto (codigoDesconto, compraValor):\n",
    "    desconto = 1 - (codigoDesconto/100)\n",
    "    total = compraValor * desconto\n",
    "    print(f'O valor com desconto é R${total}')\n",
    "\n",
    "compraValor = float(input('Qual o valor da sua compra?'))\n",
    "codigoDesconto = float(input('Qual o código de desconto?'))\n",
    "desconto(codigoDesconto, compraValor)"
   ]
  },
  {
   "cell_type": "code",
   "execution_count": 20,
   "metadata": {},
   "outputs": [
    {
     "name": "stdout",
     "output_type": "stream",
     "text": [
      "Apenas 5 jogos disponíveis.\n"
     ]
    }
   ],
   "source": [
    "def comprar(estoque):\n",
    "    while estoque > 0:\n",
    "        quantidade = int(input('Quantos jogos você quer comprar?'))\n",
    "        if quantidade > estoque:\n",
    "            print(f'Apenas {estoque} jogos disponíveis.')\n",
    "            break\n",
    "        else:\n",
    "            estoque -= quantidade\n",
    "            print(f'{estoque} jogos disponíveis')\n",
    "\n",
    "estoque = 5\n",
    "comprar(estoque)"
   ]
  },
  {
   "cell_type": "code",
   "execution_count": 21,
   "metadata": {},
   "outputs": [
    {
     "name": "stdout",
     "output_type": "stream",
     "text": [
      "Transferência bem sucedida.\n",
      "Saldo da conta debitada: 6.0 \n",
      " Saldo da conta creditada: 11.0\n"
     ]
    }
   ],
   "source": [
    "def debitar (valorTransferencia, saldo1, saldo2):\n",
    "    if saldo1 > valorTransferencia:\n",
    "        saldo1 -= valorTransferencia\n",
    "        saldo2 += valorTransferencia\n",
    "        print('Transferência bem sucedida.')\n",
    "        print(f'Saldo da conta debitada: {saldo1} \\n Saldo da conta creditada: {saldo2}')\n",
    "    else:\n",
    "        print('Saldo insuficiente.')\n",
    "\n",
    "saldo_usuario1 = 12\n",
    "saldo_usuario2 = 5\n",
    "valorTransferencia = float(input('Qual o valor que você deseja transferir?'))\n",
    "debitar(valorTransferencia, saldo_usuario1, saldo_usuario2)"
   ]
  }
 ],
 "metadata": {
  "kernelspec": {
   "display_name": "Python 3",
   "language": "python",
   "name": "python3"
  },
  "language_info": {
   "codemirror_mode": {
    "name": "ipython",
    "version": 3
   },
   "file_extension": ".py",
   "mimetype": "text/x-python",
   "name": "python",
   "nbconvert_exporter": "python",
   "pygments_lexer": "ipython3",
   "version": "3.11.4"
  },
  "orig_nbformat": 4
 },
 "nbformat": 4,
 "nbformat_minor": 2
}
