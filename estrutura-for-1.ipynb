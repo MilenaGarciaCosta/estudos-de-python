{
 "cells": [
  {
   "cell_type": "code",
   "execution_count": 7,
   "metadata": {},
   "outputs": [
    {
     "name": "stdout",
     "output_type": "stream",
     "text": [
      "BANANA\n"
     ]
    }
   ],
   "source": [
    "string = str(input('Insira seu texto: '))\n",
    "\n",
    "texto_maiusculo = \"\"\n",
    "for palavra in string:\n",
    "    texto_maiusculo += palavra.upper()\n",
    "\n",
    "print(texto_maiusculo)"
   ]
  },
  {
   "cell_type": "code",
   "execution_count": 8,
   "metadata": {},
   "outputs": [
    {
     "name": "stdout",
     "output_type": "stream",
     "text": [
      "banana\n"
     ]
    }
   ],
   "source": [
    "string = str(input('Insira seu texto: '))\n",
    "\n",
    "texto_minusculo = \"\"\n",
    "for palavra in string:\n",
    "    texto_minusculo += palavra.lower()\n",
    "\n",
    "print(texto_minusculo)"
   ]
  },
  {
   "cell_type": "code",
   "execution_count": 2,
   "metadata": {},
   "outputs": [
    {
     "name": "stdout",
     "output_type": "stream",
     "text": [
      "A média é:  7.5\n",
      "A média é:  5.5\n",
      "A média é:  8.0\n"
     ]
    }
   ],
   "source": [
    "for i in range(1,4):\n",
    "    nota1 = float(input('Insira a nota 1'))\n",
    "    nota2 = float(input('Insira a nota 2'))\n",
    "    media = (nota1 + nota2)/2\n",
    "    print('A média é: ', media)"
   ]
  },
  {
   "cell_type": "code",
   "execution_count": 5,
   "metadata": {},
   "outputs": [
    {
     "name": "stdout",
     "output_type": "stream",
     "text": [
      "Encontrei 2 vogais no seu texto\n"
     ]
    }
   ],
   "source": [
    "texto = str(input('Insira seu texto: '))\n",
    "vogais = \"aeiouAEIOUáéíóúàãõâêîôû\"\n",
    "contador = 0\n",
    "\n",
    "for i in texto:\n",
    "    if i in vogais:\n",
    "        contador += 1\n",
    "print(f\"Encontrei {contador} vogais no seu texto\")"
   ]
  },
  {
   "cell_type": "code",
   "execution_count": 9,
   "metadata": {},
   "outputs": [
    {
     "data": {
      "text/plain": [
       "[13, 22, 35]"
      ]
     },
     "execution_count": 9,
     "metadata": {},
     "output_type": "execute_result"
    }
   ],
   "source": [
    "lista1 = [5, 10, 15]\n",
    "lista2 = [8, 12, 20]\n",
    "\n",
    "#lista[i] o i vai ser 0, 1 e 2\n",
    "soma = [lista1[i] + lista2[i] for i in range(len(lista1))] #soma cada item de cada lista pelo índice\n",
    "soma"
   ]
  },
  {
   "cell_type": "code",
   "execution_count": 10,
   "metadata": {},
   "outputs": [
    {
     "data": {
      "text/plain": [
       "[13, 20, 22, 19]"
      ]
     },
     "execution_count": 10,
     "metadata": {},
     "output_type": "execute_result"
    }
   ],
   "source": [
    "lista1 = [1, 10, 15, 6]\n",
    "lista2 = [9, 1, 2, 5]\n",
    "lista3 = [3, 9, 5, 8]\n",
    "\n",
    "soma = [lista1[i] + lista2[i] + lista3[i] for i in range(len(lista1))]\n",
    "soma"
   ]
  },
  {
   "cell_type": "code",
   "execution_count": 15,
   "metadata": {},
   "outputs": [
    {
     "name": "stdout",
     "output_type": "stream",
     "text": [
      "[13, 20, 22, 19]\n",
      "[3, 5, 2, -6]\n"
     ]
    }
   ],
   "source": [
    "lista1 = [1, 10, 15, 6]\n",
    "lista2 = [9, 1, 2, 5]\n",
    "lista3 = [3, 9, 5, 8]\n",
    "lista4 = [10, 15, 20, 25]\n",
    "\n",
    "soma = [lista1[i] + lista2[i] + lista3[i] for i in range(len(lista1))]\n",
    "subtracao = [soma[i] - lista4[i] for i in range(len(lista1))]\n",
    "print(soma)\n",
    "print(subtracao)"
   ]
  }
 ],
 "metadata": {
  "kernelspec": {
   "display_name": "Python 3",
   "language": "python",
   "name": "python3"
  },
  "language_info": {
   "codemirror_mode": {
    "name": "ipython",
    "version": 3
   },
   "file_extension": ".py",
   "mimetype": "text/x-python",
   "name": "python",
   "nbconvert_exporter": "python",
   "pygments_lexer": "ipython3",
   "version": "3.11.4"
  },
  "orig_nbformat": 4
 },
 "nbformat": 4,
 "nbformat_minor": 2
}
