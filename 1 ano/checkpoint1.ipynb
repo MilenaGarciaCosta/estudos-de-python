{
 "cells": [
  {
   "cell_type": "code",
   "execution_count": 36,
   "metadata": {},
   "outputs": [
    {
     "name": "stdout",
     "output_type": "stream",
     "text": [
      "O vídeos com menor taxa de aprovação é: ('Título: python básico', 'Aprovação: 1.04') \n",
      "E o vídeo com maior taxa de aprovação é('Título: análise estatística', 'Aprovação: 1.1714285714285715')\n"
     ]
    }
   ],
   "source": [
    "# 1\n",
    "videos =(('python básico', 500, 20),\n",
    "        ('deep learning', 400, 50),\n",
    "        ('visualização de dados', 600, 30),\n",
    "        ('análise estatística', 350, 60))\n",
    "\n",
    "taxas_aprovacao = []\n",
    "\n",
    "for video in videos:\n",
    "    taxa = (video[1] + video[2]) / video[1]\n",
    "    taxas_aprovacao.append((f\"Título: {video[0]}\", f\"Aprovação: {taxa}\"))\n",
    "taxas_sorted = sorted(taxas_aprovacao, key=lambda video: video[1])\n",
    "print(f\"O vídeos com menor taxa de aprovação é: {taxas_sorted[0]} \\nE o vídeo com maior taxa de aprovação é{taxas_sorted[3]}\")"
   ]
  },
  {
   "cell_type": "code",
   "execution_count": 78,
   "metadata": {},
   "outputs": [
    {
     "name": "stdout",
     "output_type": "stream",
     "text": [
      "[['python básico', 500, 20], ['deep learning', 400, 50], ['visualização de dados', 500, 50], ['análise estatística', 350, 60], ['Análise de componentes principais', 150, 25], ['ChatGPT', 800, 20], ['Rede neural MLP', 550, 15]]\n"
     ]
    }
   ],
   "source": [
    "videos =(('python básico', 500, 20),\n",
    "        ('deep learning', 400, 50),\n",
    "        ('visualização de dados', 600, 30),\n",
    "        ('análise estatística', 350, 60))\n",
    "videos1 = (\n",
    "    (\"Análise de componentes principais\", 100, 20),\n",
    "    (\"ChatGPT\", 800, 20),\n",
    "    (\"Rede neural MLP\", 550, 15),\n",
    ")\n",
    "\n",
    "tupla_videos = videos + videos1\n",
    "tupla_videos\n",
    "\n",
    "lista_atualizada = []\n",
    "\n",
    "for video in tupla_videos:\n",
    "    lista_atualizada.append(list(video))\n",
    "\n",
    "lista_atualizada[4][1] = 150\n",
    "lista_atualizada[4][2] = 25\n",
    "\n",
    "lista_atualizada[2][1] = 500\n",
    "lista_atualizada[2][2] = 50\n",
    "\n",
    "print(lista_atualizada)\n"
   ]
  },
  {
   "cell_type": "code",
   "execution_count": 81,
   "metadata": {},
   "outputs": [
    {
     "name": "stdout",
     "output_type": "stream",
     "text": [
      "Total de Likes: 3300 - Total de Deslikes 215\n"
     ]
    }
   ],
   "source": [
    "videos =(('python básico', 500, 20),\n",
    "        ('deep learning', 400, 50),\n",
    "        ('visualização de dados', 600, 30),\n",
    "        ('análise estatística', 350, 60))\n",
    "videos1 = (\n",
    "    (\"Análise de componentes principais\", 100, 20),\n",
    "    (\"ChatGPT\", 800, 20),\n",
    "    (\"Rede neural MLP\", 550, 15),\n",
    ")\n",
    "\n",
    "total_likes = 0\n",
    "total_deslikes = 0\n",
    "\n",
    "for video in tupla_videos:\n",
    "    total_likes = video[1] + total_likes\n",
    "    total_deslikes = video[2] + total_deslikes\n",
    "print(f\"Total de Likes: {total_likes} - Total de Deslikes {total_deslikes}\")"
   ]
  }
 ],
 "metadata": {
  "kernelspec": {
   "display_name": "Python 3",
   "language": "python",
   "name": "python3"
  },
  "language_info": {
   "codemirror_mode": {
    "name": "ipython",
    "version": 3
   },
   "file_extension": ".py",
   "mimetype": "text/x-python",
   "name": "python",
   "nbconvert_exporter": "python",
   "pygments_lexer": "ipython3",
   "version": "3.12.3"
  }
 },
 "nbformat": 4,
 "nbformat_minor": 2
}
