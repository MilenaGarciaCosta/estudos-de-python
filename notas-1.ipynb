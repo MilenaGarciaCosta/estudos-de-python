{
 "cells": [
  {
   "cell_type": "code",
   "execution_count": 1,
   "metadata": {},
   "outputs": [
    {
     "name": "stdout",
     "output_type": "stream",
     "text": [
      "HOJE É TERÇA-FEIRA\n"
     ]
    }
   ],
   "source": [
    "string = 'hoje é terça-feira'\n",
    "\n",
    "texto_maiusculo = \"\"\n",
    "for palavra in string:\n",
    "    texto_maiusculo += palavra.upper()\n",
    "\n",
    "print(texto_maiusculo)"
   ]
  },
  {
   "cell_type": "code",
   "execution_count": 2,
   "metadata": {},
   "outputs": [
    {
     "name": "stdout",
     "output_type": "stream",
     "text": [
      "A média é:  7.5\n",
      "A média é:  5.5\n",
      "A média é:  8.0\n"
     ]
    }
   ],
   "source": [
    "for i in range(1,4):\n",
    "    nota1 = float(input('Insira a nota 1'))\n",
    "    nota2 = float(input('Insira a nota 2'))\n",
    "    media = (nota1 + nota2)/2\n",
    "    print('A média é: ', media)"
   ]
  }
 ],
 "metadata": {
  "kernelspec": {
   "display_name": "Python 3",
   "language": "python",
   "name": "python3"
  },
  "language_info": {
   "codemirror_mode": {
    "name": "ipython",
    "version": 3
   },
   "file_extension": ".py",
   "mimetype": "text/x-python",
   "name": "python",
   "nbconvert_exporter": "python",
   "pygments_lexer": "ipython3",
   "version": "3.11.4"
  },
  "orig_nbformat": 4
 },
 "nbformat": 4,
 "nbformat_minor": 2
}
