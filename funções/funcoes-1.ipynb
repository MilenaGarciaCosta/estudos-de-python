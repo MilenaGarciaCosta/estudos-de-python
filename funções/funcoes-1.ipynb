{
 "cells": [
  {
   "cell_type": "code",
   "execution_count": 1,
   "metadata": {},
   "outputs": [
    {
     "name": "stdout",
     "output_type": "stream",
     "text": [
      "14\n"
     ]
    }
   ],
   "source": [
    "# def nome (argumento)\n",
    "\n",
    "# nome (argumento)\n",
    "# return valor\n",
    "\n",
    "def multiplicacao (param1, param2):\n",
    "    total = param1 * param2\n",
    "    return total\n",
    "\n",
    "print(multiplicacao(2,7))"
   ]
  },
  {
   "cell_type": "code",
   "execution_count": 3,
   "metadata": {},
   "outputs": [
    {
     "name": "stdout",
     "output_type": "stream",
     "text": [
      "Soma: 8.0\n",
      "Subtração: 2.0\n",
      "Multiplicação: 15.0\n",
      "Divisão: 1.6666666666666667\n"
     ]
    }
   ],
   "source": [
    "num1 = float(input('Digite o primeiro número: '))\n",
    "num2 = float(input('Digite o segundo número: '))\n",
    "\n",
    "def soma (num1, num2):\n",
    "    total = num1 + num2\n",
    "    return total\n",
    "print('Soma:', soma(num1, num2))\n",
    "\n",
    "def subtracao (num1, num2):\n",
    "    total = num1 - num2\n",
    "    return total\n",
    "print('Subtração:', subtracao(num1, num2))\n",
    "\n",
    "def multi (num1, num2):\n",
    "    total = num1 * num2\n",
    "    return total\n",
    "print('Multiplicação:', multi(num1, num2))\n",
    "\n",
    "def divisao (num1, num2):\n",
    "    total = num1 / num2\n",
    "    return total\n",
    "print('Divisão:', divisao(num1, num2))"
   ]
  },
  {
   "cell_type": "code",
   "execution_count": 14,
   "metadata": {},
   "outputs": [
    {
     "name": "stdout",
     "output_type": "stream",
     "text": [
      "Áreas: 9.0\n"
     ]
    }
   ],
   "source": [
    "lado1 = float(input('Qual o valor do priemiro lado?'))\n",
    "lado2 = float(input('Qual o valor do segundo?'))\n",
    "\n",
    "def area (lado1, lado2):\n",
    "    area_q = lado1**2\n",
    "    area_r =lado1 * lado2\n",
    "    return area_q, area_r\n",
    "print('Áreas:', area(lado1, lado2))"
   ]
  },
  {
   "cell_type": "code",
   "execution_count": null,
   "metadata": {},
   "outputs": [],
   "source": [
    "def converter_temp():\n",
    "    temperaturas = []\n",
    "    for t in range(3):\n",
    "        temp = float(input('Insira uma temepratura: '.format(t+1)))\n",
    "        temperaturas.append(temp)\n",
    "\n",
    "    temp = cel * 1.88 + 32"
   ]
  }
 ],
 "metadata": {
  "kernelspec": {
   "display_name": "Python 3",
   "language": "python",
   "name": "python3"
  },
  "language_info": {
   "codemirror_mode": {
    "name": "ipython",
    "version": 3
   },
   "file_extension": ".py",
   "mimetype": "text/x-python",
   "name": "python",
   "nbconvert_exporter": "python",
   "pygments_lexer": "ipython3",
   "version": "3.11.4"
  },
  "orig_nbformat": 4
 },
 "nbformat": 4,
 "nbformat_minor": 2
}
